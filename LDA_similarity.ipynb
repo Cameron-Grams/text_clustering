{
 "cells": [
  {
   "cell_type": "code",
   "execution_count": 2,
   "id": "097507b9-02ea-403a-a0f0-b2d49a83879a",
   "metadata": {},
   "outputs": [],
   "source": [
    "# example from: https://www.kaggle.com/code/ktattan/lda-and-document-similarity"
   ]
  },
  {
   "cell_type": "code",
   "execution_count": 3,
   "id": "0d18f5f4-81a9-4fd7-92a4-681a8a463b1f",
   "metadata": {},
   "outputs": [],
   "source": [
    "# import dependencies\n",
    "%matplotlib inline\n",
    "import pandas as pd\n",
    "import numpy as np\n",
    "import nltk\n",
    "from nltk.corpus import stopwords\n",
    "import gensim\n",
    "from gensim.models import LdaModel\n",
    "from gensim import models, corpora, similarities\n",
    "import re\n",
    "from nltk.stem.porter import PorterStemmer\n",
    "import time\n",
    "from nltk import FreqDist\n",
    "from scipy.stats import entropy\n",
    "import matplotlib.pyplot as plt\n",
    "import seaborn as sns\n",
    "sns.set_style(\"darkgrid\")"
   ]
  },
  {
   "cell_type": "code",
   "execution_count": 11,
   "id": "6be21f06-ee8d-46e3-b19f-5b9f0d6acea8",
   "metadata": {},
   "outputs": [
    {
     "name": "stderr",
     "output_type": "stream",
     "text": [
      "[nltk_data] Downloading package stopwords to\n",
      "[nltk_data]     /home/cameron/nltk_data...\n",
      "[nltk_data]   Package stopwords is already up-to-date!\n",
      "[nltk_data] Downloading package punkt to /home/cameron/nltk_data...\n",
      "[nltk_data]   Unzipping tokenizers/punkt.zip.\n"
     ]
    },
    {
     "data": {
      "text/plain": [
       "True"
      ]
     },
     "execution_count": 11,
     "metadata": {},
     "output_type": "execute_result"
    }
   ],
   "source": [
    "nltk.download('stopwords')\n",
    "nltk.download('punkt')"
   ]
  },
  {
   "cell_type": "code",
   "execution_count": 5,
   "id": "f5247e36-2fd2-4dcc-8a1a-383db4238edf",
   "metadata": {},
   "outputs": [
    {
     "name": "stderr",
     "output_type": "stream",
     "text": [
      "/tmp/ipykernel_3374/2857451255.py:4: FutureWarning: A value is trying to be set on a copy of a DataFrame or Series through chained assignment using an inplace method.\n",
      "The behavior will change in pandas 3.0. This inplace method will never work because the intermediate object on which we are setting values always behaves as a copy.\n",
      "\n",
      "For example, when doing 'df[col].method(value, inplace=True)', try using 'df.method({col: value}, inplace=True)' or df[col] = df[col].method(value) instead, to perform the operation inplace on the original object.\n",
      "\n",
      "\n",
      "  df['title'].fillna(value=\"\", inplace=True)\n"
     ]
    },
    {
     "data": {
      "text/html": [
       "<div>\n",
       "<style scoped>\n",
       "    .dataframe tbody tr th:only-of-type {\n",
       "        vertical-align: middle;\n",
       "    }\n",
       "\n",
       "    .dataframe tbody tr th {\n",
       "        vertical-align: top;\n",
       "    }\n",
       "\n",
       "    .dataframe thead th {\n",
       "        text-align: right;\n",
       "    }\n",
       "</style>\n",
       "<table border=\"1\" class=\"dataframe\">\n",
       "  <thead>\n",
       "    <tr style=\"text-align: right;\">\n",
       "      <th></th>\n",
       "      <th>uuid</th>\n",
       "      <th>author</th>\n",
       "      <th>title</th>\n",
       "      <th>text</th>\n",
       "      <th>language</th>\n",
       "      <th>site_url</th>\n",
       "      <th>country</th>\n",
       "    </tr>\n",
       "  </thead>\n",
       "  <tbody>\n",
       "    <tr>\n",
       "      <th>0</th>\n",
       "      <td>7f90d71cc69893f4c91e8a55f2c4da52d88cd7c1</td>\n",
       "      <td>Fed Up</td>\n",
       "      <td>SAY GOODBYE! These 23 Hollywood Celebs Threate...</td>\n",
       "      <td>\\nWho? Comedian. \\nWhere would she move? Spain...</td>\n",
       "      <td>english</td>\n",
       "      <td>100percentfedup.com</td>\n",
       "      <td>US</td>\n",
       "    </tr>\n",
       "    <tr>\n",
       "      <th>1</th>\n",
       "      <td>c1bcb3502dd845655fa38b30d34b4c5a1355168c</td>\n",
       "      <td>noreply@blogger.com (Alexander Light)</td>\n",
       "      <td>Report: Eating Raw Weed Prevents Bowel Cancer,...</td>\n",
       "      <td>Print Email http://humansarefree.com/2016/11/r...</td>\n",
       "      <td>english</td>\n",
       "      <td>humansarefree.com</td>\n",
       "      <td>US</td>\n",
       "    </tr>\n",
       "    <tr>\n",
       "      <th>2</th>\n",
       "      <td>09c532301790f24d75e25675e5bad25af3206a3e</td>\n",
       "      <td>Joan Workman</td>\n",
       "      <td></td>\n",
       "      <td>It's in the Clinton pockets under the cover up...</td>\n",
       "      <td>english</td>\n",
       "      <td>westernjournalism.com</td>\n",
       "      <td>US</td>\n",
       "    </tr>\n",
       "  </tbody>\n",
       "</table>\n",
       "</div>"
      ],
      "text/plain": [
       "                                       uuid  \\\n",
       "0  7f90d71cc69893f4c91e8a55f2c4da52d88cd7c1   \n",
       "1  c1bcb3502dd845655fa38b30d34b4c5a1355168c   \n",
       "2  09c532301790f24d75e25675e5bad25af3206a3e   \n",
       "\n",
       "                                  author  \\\n",
       "0                                 Fed Up   \n",
       "1  noreply@blogger.com (Alexander Light)   \n",
       "2                           Joan Workman   \n",
       "\n",
       "                                               title  \\\n",
       "0  SAY GOODBYE! These 23 Hollywood Celebs Threate...   \n",
       "1  Report: Eating Raw Weed Prevents Bowel Cancer,...   \n",
       "2                                                      \n",
       "\n",
       "                                                text language  \\\n",
       "0  \\nWho? Comedian. \\nWhere would she move? Spain...  english   \n",
       "1  Print Email http://humansarefree.com/2016/11/r...  english   \n",
       "2  It's in the Clinton pockets under the cover up...  english   \n",
       "\n",
       "                site_url country  \n",
       "0    100percentfedup.com      US  \n",
       "1      humansarefree.com      US  \n",
       "2  westernjournalism.com      US  "
      ]
     },
     "execution_count": 5,
     "metadata": {},
     "output_type": "execute_result"
    }
   ],
   "source": [
    "df = pd.read_csv('fake.csv', usecols = ['uuid','author','title','text','language','site_url','country'])\n",
    "df = df[df.language == 'english']\n",
    "df = df[df['text'].map(type) == str]\n",
    "df['title'].fillna(value=\"\", inplace=True)\n",
    "df.dropna(axis=0, inplace=True, subset=['text'])\n",
    "# shuffle the data\n",
    "df = df.sample(frac=1.0)\n",
    "df.reset_index(drop=True,inplace=True)\n",
    "df.head(3)"
   ]
  },
  {
   "cell_type": "code",
   "execution_count": 8,
   "id": "a11a3373-8fc3-422b-8201-cf55157feedb",
   "metadata": {},
   "outputs": [],
   "source": [
    "def initial_clean(text):\n",
    "    \"\"\"\n",
    "    Function to clean text of websites, email addresess and any punctuation\n",
    "    We also lower case the text\n",
    "    \"\"\"\n",
    "    text = re.sub(\"((\\S+)?(http(s)?)(\\S+))|((\\S+)?(www)(\\S+))|((\\S+)?(\\@)(\\S+)?)\", \" \", text)\n",
    "    text = re.sub(\"[^a-zA-Z ]\", \"\", text)\n",
    "    text = text.lower() # lower case the text\n",
    "    text = nltk.word_tokenize(text)\n",
    "    return text\n",
    "\n",
    "def remove_stop_words(text):\n",
    "    \"\"\"\n",
    "    Function that removes all stopwords from text\n",
    "    \"\"\"\n",
    "    return [word for word in text if word not in stop_words]\n",
    "\n",
    "def stem_words(text):\n",
    "    \"\"\"\n",
    "    Function to stem words, so plural and singular are treated the same\n",
    "    \"\"\"\n",
    "    try:\n",
    "        text = [stemmer.stem(word) for word in text]\n",
    "        text = [word for word in text if len(word) > 1] # make sure we have no 1 letter words\n",
    "    except IndexError: # the word \"oed\" broke this, so needed try except\n",
    "        pass\n",
    "    return text\n",
    "\n",
    "def apply_all(text):\n",
    "    \"\"\"\n",
    "    This function applies all the functions above into one\n",
    "    \"\"\"\n",
    "    return stem_words(remove_stop_words(initial_clean(text)))"
   ]
  },
  {
   "cell_type": "code",
   "execution_count": 9,
   "id": "478015c4-8427-4f73-adf7-2250c759b8ac",
   "metadata": {},
   "outputs": [],
   "source": [
    "stop_words = stopwords.words('english')\n",
    "stemmer = PorterStemmer()"
   ]
  },
  {
   "cell_type": "code",
   "execution_count": 12,
   "id": "34573abb-303f-4199-89c2-e1253e6c0870",
   "metadata": {},
   "outputs": [
    {
     "name": "stdout",
     "output_type": "stream",
     "text": [
      "Time to clean and tokenize 12357 articles: 1.238433881600698 min\n"
     ]
    }
   ],
   "source": [
    "# clean text and title and create new column \"tokenized\"\n",
    "t1 = time.time()\n",
    "df['tokenized'] = df['text'].apply(apply_all) + df['title'].apply(apply_all)\n",
    "t2 = time.time()\n",
    "print(\"Time to clean and tokenize\", len(df), \"articles:\", (t2-t1)/60, \"min\")"
   ]
  },
  {
   "cell_type": "code",
   "execution_count": 13,
   "id": "7a9e2fd7-9861-4d24-a1cc-e1a9077b6cc8",
   "metadata": {},
   "outputs": [
    {
     "data": {
      "text/plain": [
       "96280"
      ]
     },
     "execution_count": 13,
     "metadata": {},
     "output_type": "execute_result"
    }
   ],
   "source": [
    "# first get a list of all words\n",
    "all_words = [word for item in list(df['tokenized']) for word in item]\n",
    "# use nltk fdist to get a frequency distribution of all words\n",
    "fdist = FreqDist(all_words)\n",
    "len(fdist) # number of unique words"
   ]
  },
  {
   "cell_type": "code",
   "execution_count": 14,
   "id": "724d6a5b-ed46-49b8-9251-42ae8d18f730",
   "metadata": {},
   "outputs": [
    {
     "data": {
      "text/plain": [
       "[('franconia', 1),\n",
       " ('tricar', 1),\n",
       " ('plough', 1),\n",
       " ('gambro', 1),\n",
       " ('regeneron', 1),\n",
       " ('dentzer', 1),\n",
       " ('xarelto', 1),\n",
       " ('markowitz', 1),\n",
       " ('addictionthat', 1),\n",
       " ('botticelli', 1)]"
      ]
     },
     "execution_count": 14,
     "metadata": {},
     "output_type": "execute_result"
    }
   ],
   "source": [
    "# choose k and visually inspect the bottom 10 words of the top k\n",
    "k = 50000\n",
    "top_k_words = fdist.most_common(k)\n",
    "top_k_words[-10:]"
   ]
  },
  {
   "cell_type": "code",
   "execution_count": 15,
   "id": "7e613f98-2714-442a-8c77-4748c9620623",
   "metadata": {},
   "outputs": [
    {
     "data": {
      "text/plain": [
       "[('beek', 13),\n",
       " ('je', 13),\n",
       " ('archer', 13),\n",
       " ('normandi', 13),\n",
       " ('getoutthevot', 13),\n",
       " ('bimbo', 13),\n",
       " ('judah', 13),\n",
       " ('rootsactionorg', 13),\n",
       " ('asparagu', 13),\n",
       " ('soral', 13)]"
      ]
     },
     "execution_count": 15,
     "metadata": {},
     "output_type": "execute_result"
    }
   ],
   "source": [
    "# choose k and visually inspect the bottom 10 words of the top k\n",
    "k = 15000\n",
    "top_k_words = fdist.most_common(k)\n",
    "top_k_words[-10:]"
   ]
  },
  {
   "cell_type": "code",
   "execution_count": 17,
   "id": "e22a9265-424b-49ba-8c38-4c68b82467cf",
   "metadata": {},
   "outputs": [],
   "source": [
    "# define a function only to keep words in the top k words\n",
    "top_k_words,_ = zip(*fdist.most_common(k))\n",
    "top_k_words = set(top_k_words)"
   ]
  },
  {
   "cell_type": "code",
   "execution_count": 18,
   "id": "9ca10c6c-5775-475d-9bd1-0e41025474eb",
   "metadata": {},
   "outputs": [],
   "source": [
    "def keep_top_k_words(text):\n",
    "    return [word for word in text if word in top_k_words]"
   ]
  },
  {
   "cell_type": "code",
   "execution_count": 19,
   "id": "4585e640-e658-45cb-8599-585e094c00c1",
   "metadata": {},
   "outputs": [],
   "source": [
    "df['tokenized'] = df['tokenized'].apply(keep_top_k_words)"
   ]
  },
  {
   "cell_type": "code",
   "execution_count": 20,
   "id": "0bd08cb0-b7e1-42e4-9fcb-938219b6c70f",
   "metadata": {},
   "outputs": [
    {
     "name": "stdout",
     "output_type": "stream",
     "text": [
      "length of list: 12357 \n",
      "average document length 345.66828518248764 \n",
      "minimum document length 0 \n",
      "maximum document length 11575\n"
     ]
    }
   ],
   "source": [
    "# document length\n",
    "df['doc_len'] = df['tokenized'].apply(lambda x: len(x))\n",
    "doc_lengths = list(df['doc_len'])\n",
    "df.drop(labels='doc_len', axis=1, inplace=True)\n",
    "\n",
    "print(\"length of list:\",len(doc_lengths),\n",
    "      \"\\naverage document length\", np.average(doc_lengths),\n",
    "      \"\\nminimum document length\", min(doc_lengths),\n",
    "      \"\\nmaximum document length\", max(doc_lengths))"
   ]
  },
  {
   "cell_type": "code",
   "execution_count": 25,
   "id": "9c7f1f1a-835e-4a15-a84f-9e8771661a9d",
   "metadata": {},
   "outputs": [
    {
     "data": {
      "image/png": "[encoded data removed]",
      "text/plain": [
       "<Figure size 1200x600 with 1 Axes>"
      ]
     },
     "metadata": {},
     "output_type": "display_data"
    }
   ],
   "source": [
    "# plot a histogram of document length\n",
    "num_bins = 1000\n",
    "fig, ax = plt.subplots(figsize=(12,6));\n",
    "# the histogram of the data\n",
    "n, bins, patches = ax.hist(doc_lengths, num_bins )  #, normed=1)\n",
    "ax.set_xlabel('Document Length (tokens)', fontsize=15)\n",
    "ax.set_ylabel('Normed Frequency', fontsize=15)\n",
    "ax.grid()\n",
    "ax.set_xticks(np.logspace(start=np.log10(50),stop=np.log10(2000),num=8, base=10.0))\n",
    "plt.xlim(0,2000)\n",
    "ax.plot([np.average(doc_lengths) for i in np.linspace(0.0,0.0035,100)], np.linspace(0.0,0.0035,100), '-',\n",
    "        label='average doc length')  # this does not show... \n",
    "ax.legend()\n",
    "ax.grid()\n",
    "fig.tight_layout()\n",
    "plt.show()"
   ]
  },
  {
   "cell_type": "code",
   "execution_count": 26,
   "id": "ffb1861b-e856-49eb-a8b7-e2eccf51f09f",
   "metadata": {},
   "outputs": [
    {
     "name": "stdout",
     "output_type": "stream",
     "text": [
      "After cleaning and excluding short aticles, the dataframe now has: 10812 articles\n"
     ]
    }
   ],
   "source": [
    "# only keep articles with more than 30 tokens, otherwise too short\n",
    "df = df[df['tokenized'].map(len) >= 40]\n",
    "# make sure all tokenized items are lists\n",
    "df = df[df['tokenized'].map(type) == list]\n",
    "df.reset_index(drop=True,inplace=True)\n",
    "print(\"After cleaning and excluding short aticles, the dataframe now has:\", len(df), \"articles\")"
   ]
  },
  {
   "cell_type": "code",
   "execution_count": 27,
   "id": "2ae3201d-acde-4b1d-80a8-0408e26d642d",
   "metadata": {},
   "outputs": [
    {
     "data": {
      "text/html": [
       "<div>\n",
       "<style scoped>\n",
       "    .dataframe tbody tr th:only-of-type {\n",
       "        vertical-align: middle;\n",
       "    }\n",
       "\n",
       "    .dataframe tbody tr th {\n",
       "        vertical-align: top;\n",
       "    }\n",
       "\n",
       "    .dataframe thead th {\n",
       "        text-align: right;\n",
       "    }\n",
       "</style>\n",
       "<table border=\"1\" class=\"dataframe\">\n",
       "  <thead>\n",
       "    <tr style=\"text-align: right;\">\n",
       "      <th></th>\n",
       "      <th>uuid</th>\n",
       "      <th>author</th>\n",
       "      <th>title</th>\n",
       "      <th>text</th>\n",
       "      <th>language</th>\n",
       "      <th>site_url</th>\n",
       "      <th>country</th>\n",
       "      <th>tokenized</th>\n",
       "    </tr>\n",
       "  </thead>\n",
       "  <tbody>\n",
       "    <tr>\n",
       "      <th>0</th>\n",
       "      <td>7f90d71cc69893f4c91e8a55f2c4da52d88cd7c1</td>\n",
       "      <td>Fed Up</td>\n",
       "      <td>SAY GOODBYE! These 23 Hollywood Celebs Threate...</td>\n",
       "      <td>\\nWho? Comedian. \\nWhere would she move? Spain...</td>\n",
       "      <td>english</td>\n",
       "      <td>100percentfedup.com</td>\n",
       "      <td>US</td>\n",
       "      <td>[comedian, would, move, spain, buy, hous, anot...</td>\n",
       "    </tr>\n",
       "    <tr>\n",
       "      <th>1</th>\n",
       "      <td>c1bcb3502dd845655fa38b30d34b4c5a1355168c</td>\n",
       "      <td>noreply@blogger.com (Alexander Light)</td>\n",
       "      <td>Report: Eating Raw Weed Prevents Bowel Cancer,...</td>\n",
       "      <td>Print Email http://humansarefree.com/2016/11/r...</td>\n",
       "      <td>english</td>\n",
       "      <td>humansarefree.com</td>\n",
       "      <td>US</td>\n",
       "      <td>[print, email, cannabi, taken, differ, form, w...</td>\n",
       "    </tr>\n",
       "    <tr>\n",
       "      <th>2</th>\n",
       "      <td>336515db559ebe21c4c52741d3f35b34afd0c652</td>\n",
       "      <td>Kaitlyn Stegall</td>\n",
       "      <td>Israel preparing for one-sided UN Security Cou...</td>\n",
       "      <td>November 11, 2016 Israel preparing for one-sid...</td>\n",
       "      <td>english</td>\n",
       "      <td>endtime.com</td>\n",
       "      <td>US</td>\n",
       "      <td>[novemb, israel, prepar, onesid, un, secur, co...</td>\n",
       "    </tr>\n",
       "  </tbody>\n",
       "</table>\n",
       "</div>"
      ],
      "text/plain": [
       "                                       uuid  \\\n",
       "0  7f90d71cc69893f4c91e8a55f2c4da52d88cd7c1   \n",
       "1  c1bcb3502dd845655fa38b30d34b4c5a1355168c   \n",
       "2  336515db559ebe21c4c52741d3f35b34afd0c652   \n",
       "\n",
       "                                  author  \\\n",
       "0                                 Fed Up   \n",
       "1  noreply@blogger.com (Alexander Light)   \n",
       "2                        Kaitlyn Stegall   \n",
       "\n",
       "                                               title  \\\n",
       "0  SAY GOODBYE! These 23 Hollywood Celebs Threate...   \n",
       "1  Report: Eating Raw Weed Prevents Bowel Cancer,...   \n",
       "2  Israel preparing for one-sided UN Security Cou...   \n",
       "\n",
       "                                                text language  \\\n",
       "0  \\nWho? Comedian. \\nWhere would she move? Spain...  english   \n",
       "1  Print Email http://humansarefree.com/2016/11/r...  english   \n",
       "2  November 11, 2016 Israel preparing for one-sid...  english   \n",
       "\n",
       "              site_url country  \\\n",
       "0  100percentfedup.com      US   \n",
       "1    humansarefree.com      US   \n",
       "2          endtime.com      US   \n",
       "\n",
       "                                           tokenized  \n",
       "0  [comedian, would, move, spain, buy, hous, anot...  \n",
       "1  [print, email, cannabi, taken, differ, form, w...  \n",
       "2  [novemb, israel, prepar, onesid, un, secur, co...  "
      ]
     },
     "execution_count": 27,
     "metadata": {},
     "output_type": "execute_result"
    }
   ],
   "source": [
    "df.head(3)"
   ]
  },
  {
   "cell_type": "code",
   "execution_count": 40,
   "id": "dcb1eebc-9882-4385-aa74-3835fb57f8d2",
   "metadata": {},
   "outputs": [],
   "source": [
    "# create a mask of binary values\n",
    "mask = np.random.rand(len(df)) < 0.999"
   ]
  },
  {
   "cell_type": "code",
   "execution_count": 41,
   "id": "04f6ef0f-9967-4e40-b312-2e8bc7e23464",
   "metadata": {},
   "outputs": [
    {
     "data": {
      "text/plain": [
       "10812"
      ]
     },
     "execution_count": 41,
     "metadata": {},
     "output_type": "execute_result"
    }
   ],
   "source": [
    "len(mask)"
   ]
  },
  {
   "cell_type": "code",
   "execution_count": 42,
   "id": "30fc9294-2a12-4f42-9078-9849a53be376",
   "metadata": {},
   "outputs": [],
   "source": [
    "trues = [m for m in mask if m == True]"
   ]
  },
  {
   "cell_type": "code",
   "execution_count": 43,
   "id": "e5ce49d7-593a-47cd-8b7b-ab7b178a6ad7",
   "metadata": {},
   "outputs": [
    {
     "data": {
      "text/plain": [
       "10796"
      ]
     },
     "execution_count": 43,
     "metadata": {},
     "output_type": "execute_result"
    }
   ],
   "source": [
    "len(trues)"
   ]
  },
  {
   "cell_type": "code",
   "execution_count": 47,
   "id": "2396f907-3c69-4179-9d04-d2c8210acd8c",
   "metadata": {},
   "outputs": [],
   "source": [
    "train_df = df[msk]\n",
    "train_df.reset_index(drop=True,inplace=True)\n",
    "\n",
    "test_df = df[~msk]\n",
    "test_df.reset_index(drop=True,inplace=True)"
   ]
  },
  {
   "cell_type": "code",
   "execution_count": 49,
   "id": "d393fb09-49a1-41f9-baa7-ad98806782e2",
   "metadata": {},
   "outputs": [
    {
     "name": "stdout",
     "output_type": "stream",
     "text": [
      "10812 10797 15\n"
     ]
    }
   ],
   "source": [
    "print(len(df),len(train_df),len(test_df))"
   ]
  },
  {
   "cell_type": "code",
   "execution_count": 50,
   "id": "a98d333a-1ab7-4aee-9aaa-fcf10b3fe60b",
   "metadata": {},
   "outputs": [],
   "source": [
    "def train_lda(data):\n",
    "    \"\"\"\n",
    "    This function trains the lda model\n",
    "    We setup parameters like number of topics, the chunksize to use in Hoffman method\n",
    "    We also do 2 passes of the data since this is a small dataset, so we want the distributions to stabilize\n",
    "    \"\"\"\n",
    "    num_topics = 100\n",
    "    chunksize = 300\n",
    "    dictionary = corpora.Dictionary(data['tokenized'])\n",
    "    corpus = [dictionary.doc2bow(doc) for doc in data['tokenized']]\n",
    "    t1 = time.time()\n",
    "    # low alpha means each document is only represented by a small number of topics, and vice versa\n",
    "    # low eta means each topic is only represented by a small number of words, and vice versa\n",
    "    lda = LdaModel(corpus=corpus, num_topics=num_topics, id2word=dictionary,\n",
    "                   alpha=1e-2, eta=0.5e-2, chunksize=chunksize, minimum_probability=0.0, passes=2)\n",
    "    t2 = time.time()\n",
    "    print(\"Time to train LDA model on \", len(df), \"articles: \", (t2-t1)/60, \"min\")\n",
    "    return dictionary,corpus,lda"
   ]
  },
  {
   "cell_type": "code",
   "execution_count": 51,
   "id": "04b69503-4ade-4b54-9fd1-614fd12ad110",
   "metadata": {},
   "outputs": [
    {
     "name": "stdout",
     "output_type": "stream",
     "text": [
      "Time to train LDA model on  10812 articles:  0.722571325302124 min\n"
     ]
    }
   ],
   "source": [
    "dictionary,corpus,lda = train_lda(train_df)"
   ]
  },
  {
   "cell_type": "code",
   "execution_count": 52,
   "id": "d59e7940-60f7-41c8-a37b-22be1b53897c",
   "metadata": {},
   "outputs": [
    {
     "data": {
      "text/plain": [
       "[(97,\n",
       "  '0.071*\"film\" + 0.057*\"food\" + 0.051*\"industri\" + 0.046*\"product\" + 0.035*\"organ\" + 0.030*\"produc\" + 0.030*\"agricultur\" + 0.029*\"farmer\" + 0.023*\"sale\" + 0.021*\"crop\" + 0.018*\"monsanto\" + 0.016*\"andrew\" + 0.015*\"thanksgiv\" + 0.013*\"festiv\" + 0.013*\"chain\" + 0.012*\"sell\" + 0.012*\"mi\" + 0.011*\"pesticid\" + 0.011*\"us\" + 0.011*\"made\"'),\n",
       " (80,\n",
       "  '0.037*\"imag\" + 0.035*\"photo\" + 0.021*\"use\" + 0.020*\"read\" + 0.017*\"sign\" + 0.017*\"email\" + 0.016*\"copyright\" + 0.015*\"click\" + 0.015*\"credit\" + 0.014*\"pictur\" + 0.014*\"spirit\" + 0.013*\"name\" + 0.013*\"address\" + 0.013*\"person\" + 0.011*\"join\" + 0.011*\"cook\" + 0.011*\"design\" + 0.010*\"without\" + 0.010*\"materi\" + 0.010*\"batteri\"'),\n",
       " (94,\n",
       "  '0.091*\"human\" + 0.088*\"right\" + 0.058*\"un\" + 0.031*\"council\" + 0.029*\"intern\" + 0.024*\"peopl\" + 0.015*\"farm\" + 0.013*\"organ\" + 0.010*\"freedom\" + 0.009*\"seeker\" + 0.009*\"violat\" + 0.009*\"world\" + 0.008*\"must\" + 0.007*\"nation\" + 0.007*\"margaret\" + 0.006*\"shelter\" + 0.006*\"unit\" + 0.006*\"exploit\" + 0.006*\"activist\" + 0.006*\"pakistani\"'),\n",
       " (78,\n",
       "  '0.094*\"court\" + 0.080*\"paul\" + 0.065*\"judg\" + 0.049*\"suprem\" + 0.049*\"retir\" + 0.047*\"ryan\" + 0.027*\"brown\" + 0.023*\"us\" + 0.019*\"thoma\" + 0.017*\"jackson\" + 0.017*\"ron\" + 0.015*\"van\" + 0.015*\"speaker\" + 0.013*\"jr\" + 0.013*\"john\" + 0.012*\"william\" + 0.011*\"sean\" + 0.011*\"marriag\" + 0.010*\"robert\" + 0.010*\"badg\"'),\n",
       " (36,\n",
       "  '0.041*\"law\" + 0.031*\"govern\" + 0.022*\"state\" + 0.021*\"feder\" + 0.013*\"legal\" + 0.012*\"court\" + 0.011*\"act\" + 0.011*\"constitut\" + 0.009*\"case\" + 0.009*\"use\" + 0.009*\"nation\" + 0.008*\"public\" + 0.008*\"right\" + 0.007*\"enforc\" + 0.007*\"justic\" + 0.007*\"order\" + 0.007*\"rule\" + 0.007*\"allow\" + 0.006*\"author\" + 0.006*\"crimin\"'),\n",
       " (79,\n",
       "  '0.060*\"china\" + 0.029*\"chines\" + 0.027*\"climat\" + 0.021*\"chang\" + 0.017*\"global\" + 0.012*\"asia\" + 0.012*\"year\" + 0.011*\"us\" + 0.011*\"africa\" + 0.011*\"south\" + 0.011*\"energi\" + 0.010*\"philippin\" + 0.010*\"fuel\" + 0.009*\"warm\" + 0.009*\"sea\" + 0.008*\"dutert\" + 0.008*\"world\" + 0.008*\"region\" + 0.007*\"ice\" + 0.007*\"countri\"'),\n",
       " (85,\n",
       "  '0.218*\"school\" + 0.138*\"student\" + 0.070*\"educ\" + 0.062*\"colleg\" + 0.042*\"petit\" + 0.032*\"kid\" + 0.023*\"univers\" + 0.020*\"parent\" + 0.019*\"commun\" + 0.018*\"board\" + 0.017*\"children\" + 0.016*\"york\" + 0.016*\"program\" + 0.015*\"transgend\" + 0.014*\"cancel\" + 0.014*\"high\" + 0.013*\"issu\" + 0.013*\"public\" + 0.012*\"district\" + 0.012*\"bathroom\"'),\n",
       " (24,\n",
       "  '0.224*\"th\" + 0.120*\"joe\" + 0.049*\"novemb\" + 0.043*\"grab\" + 0.039*\"wolf\" + 0.034*\"civil\" + 0.033*\"im\" + 0.028*\"former\" + 0.028*\"sue\" + 0.028*\"boston\" + 0.027*\"unrest\" + 0.027*\"screenshot\" + 0.026*\"massachusett\" + 0.026*\"lose\" + 0.026*\"yale\" + 0.022*\"arm\" + 0.018*\"alaska\" + 0.018*\"joseph\" + 0.013*\"joke\" + 0.012*\"drill\"'),\n",
       " (3,\n",
       "  '0.093*\"babi\" + 0.072*\"california\" + 0.045*\"birth\" + 0.031*\"ban\" + 0.030*\"born\" + 0.027*\"caus\" + 0.024*\"addict\" + 0.024*\"pregnant\" + 0.018*\"autism\" + 0.017*\"children\" + 0.015*\"mosquito\" + 0.013*\"tel\" + 0.012*\"brain\" + 0.012*\"case\" + 0.012*\"women\" + 0.011*\"dogma\" + 0.011*\"us\" + 0.011*\"pregnanc\" + 0.010*\"mother\" + 0.009*\"syndrom\"'),\n",
       " (49,\n",
       "  '0.136*\"novemb\" + 0.107*\"friday\" + 0.067*\"profil\" + 0.056*\"lee\" + 0.047*\"spokesperson\" + 0.042*\"best\" + 0.039*\"everi\" + 0.039*\"forum\" + 0.039*\"stori\" + 0.034*\"get\" + 0.033*\"free\" + 0.033*\"current\" + 0.032*\"kirbi\" + 0.032*\"simon\" + 0.029*\"app\" + 0.024*\"william\" + 0.021*\"troll\" + 0.020*\"theater\" + 0.019*\"mailbox\" + 0.019*\"newsthump\"')]"
      ]
     },
     "execution_count": 52,
     "metadata": {},
     "output_type": "execute_result"
    }
   ],
   "source": [
    "# show_topics method shows the the top num_words contributing to num_topics number of random topics\n",
    "lda.show_topics(num_topics=10, num_words=20)"
   ]
  },
  {
   "cell_type": "code",
   "execution_count": 53,
   "id": "5dc9a25b-ae46-4f86-8434-9eef83a791e1",
   "metadata": {},
   "outputs": [
    {
     "data": {
      "text/plain": [
       "[('ukrain', 0.052390397),\n",
       " ('ukrainian', 0.031216085),\n",
       " ('cia', 0.021270117),\n",
       " ('coup', 0.018913673),\n",
       " ('govern', 0.01881791),\n",
       " ('pentagon', 0.017699854),\n",
       " ('soviet', 0.016900392),\n",
       " ('militari', 0.014533196),\n",
       " ('regim', 0.013732729),\n",
       " ('kiev', 0.012127588),\n",
       " ('presid', 0.011649687),\n",
       " ('assassin', 0.011547236),\n",
       " ('intellig', 0.010662025),\n",
       " ('oper', 0.010275734),\n",
       " ('washington', 0.009960502),\n",
       " ('offici', 0.0094511295),\n",
       " ('war', 0.008608692),\n",
       " ('countri', 0.008322823),\n",
       " ('rothschild', 0.008183591),\n",
       " ('us', 0.007725264)]"
      ]
     },
     "execution_count": 53,
     "metadata": {},
     "output_type": "execute_result"
    }
   ],
   "source": [
    "lda.show_topic(topicid=4, topn=20)"
   ]
  },
  {
   "cell_type": "code",
   "execution_count": 54,
   "id": "1350288c-b578-44bf-9044-2ba1d2105fa2",
   "metadata": {},
   "outputs": [
    {
     "data": {
      "text/plain": [
       "[('school', 0.21841736),\n",
       " ('student', 0.13766748),\n",
       " ('educ', 0.06999151),\n",
       " ('colleg', 0.062155094),\n",
       " ('petit', 0.041890424),\n",
       " ('kid', 0.03192819),\n",
       " ('univers', 0.022871051),\n",
       " ('parent', 0.019579845),\n",
       " ('commun', 0.018543696),\n",
       " ('board', 0.018135596),\n",
       " ('children', 0.017255437),\n",
       " ('york', 0.015771098),\n",
       " ('program', 0.0155399265),\n",
       " ('transgend', 0.014908756),\n",
       " ('cancel', 0.01431761),\n",
       " ('high', 0.013841725),\n",
       " ('issu', 0.012871349),\n",
       " ('public', 0.012856512),\n",
       " ('district', 0.012119639),\n",
       " ('bathroom', 0.01165978)]"
      ]
     },
     "execution_count": 54,
     "metadata": {},
     "output_type": "execute_result"
    }
   ],
   "source": [
    "lda.show_topic(topicid=85, topn=20)"
   ]
  },
  {
   "cell_type": "code",
   "execution_count": 55,
   "id": "7a164bc6-30d0-40b2-8353-4c5d50ef2846",
   "metadata": {},
   "outputs": [
    {
     "name": "stdout",
     "output_type": "stream",
     "text": [
      "1142\n"
     ]
    }
   ],
   "source": [
    "# select and article at random from train_df\n",
    "random_article_index = np.random.randint(len(train_df))\n",
    "bow = dictionary.doc2bow(train_df.iloc[random_article_index,7])\n",
    "print(random_article_index)"
   ]
  },
  {
   "cell_type": "code",
   "execution_count": 56,
   "id": "f32d1cfe-2533-46eb-a8ad-43b76d741d29",
   "metadata": {},
   "outputs": [
    {
     "name": "stdout",
     "output_type": "stream",
     "text": [
      "Syrian War Report – October 27, 2016: Russian Strikes Destroyed Over 300 Terrorists’ Oil Facilities ‹ › South Front Analysis & Intelligence is a public analytical project maintained by an independent team of experts from the four corners of the Earth focusing on international relations issues and crises. They focus on analysis and intelligence of the ongoing crises and the biggest stories from around the world: Ukraine, the war in Middle East, Central Asia issues, protest movements in the Balkans, migration crises, and others. In addition, they provide military operations analysis, the military posture of major world powers, and other important data influencing the growth of tensions between countries and nations. We try to dig out the truth on issues which are barely covered by governments and mainstream media. Deterioration of Interracial Relations During Barack Obama’s Presidency By South Front on October 27, 2016 …from SouthFront \n",
      "Inter-racial conflict in the US continues to escalate despite the fact that a black president has been leading the country for 8 years. All of the various ethnic groups that comprise American society, hoped that Barack Obama would be able to “sew” together the fabric of a nation torn by racial and social divisions, but racism is still on the rise. This poses a significant threat to US homeland security. Government institutions and big business continue to be controlled by the white elites and the perilous social situation of ethnic minorities continues to be accompanied by an increase in crime. This causes growing racial intolerance at all levels. People are frustrated by the lack of change in inter-racial relations, which has led to a new round of racial violence. \n",
      "The most striking example of the exacerbation of racial conflict is the situation prevailing around so-called police violence. Every case of the killing of an unarmed African American in recent years becomes an occasion for demonstrations, which very often degenerate into riots. The new mass protest movements are thriving and growing in influence, aided by social media. For example, “Black Lives Matter,” which is compared to the ‘Black Panthers’ of the 70s. Despite the lack of talented leaders and clear programs, in such associations, their ongoing radicalization is evident. That was demonstrated by the riots in Ferguson of 2014 and the case of the murder of police officers in Baton Rouge. \n",
      "The indignation of the colored population at police actions is justified. The level of police violence in the United States is quite high. It is known that American cops kill 5 times more people than Canadian police, 40 times more than German police, and 140 times more than police in England and Wales. \n",
      "All segments of the American population are suffering from a disproportionate use of force by police. According to the resource “Mapping police violence”, from the 1st of January, 2013 to the 31st of December 2015, 3,486 people were killed by police, or approximately 1100 people per year. Of these, 571 were Hispanic (16%), 949 African-American (27%) and 1522 (43%) were White. These figures must be compared to the fact that Whites are 64% of the US population, African-Americans are 13% of the overall population, while 16% are Hispanic. However, the divergent behavior of the white population is much rarer due to a higher level of income and social stability. Of course, most of those killed by police were carrying weapons, and the lives of the policemen were in danger. But it is generally thought that US cops are more willing to open fire on people of color, because the policemen believe that the level of criminality and readiness for violence of Hispanics and African Americans is much higher. Additional factors which lead to an increase in racial tensions are racial prejudices and the established practice of cops consistently being acquitted by the U.S. court system. \n",
      "Largely because of the actions of the US ruling elites, there now exists a group of people who are above the law whose members have a license to kill. Shooting at unarmed people, including children and teens, beating of pregnant women, shooting at people with disabilities and other “controversial” actions of American cops all are commonplace occurrences in the United States. The Members of the Committee on the Elimination of Racial Discrimination (CERD) noted that in the United States there exists such inhumane methods as testing experimental medicines on inmates (predominantly African American) in prisons, the forced sterilization of minority women, and numerous incidents of police abuse of power directed towards the non-white population. However, the increased use of cameras amongst both the civilian population and police departments has facilitated increasingly frequent recordings of such cases of violence and has helped in gaining them publicity. That increased awareness that, in turn, has led to the outrage of the African-American population. \n",
      "Many US police forces continue to subject African Americans to more thorough searches and more forceful tactics during arrests. Unofficially, they explain these practices by referring to statistical data presented by such sources as American Renaissance and Daily Stormer. For example, blacks are seven times more likely than people of other races to commit murder, and eight times more likely to commit robbery. They are also three times more likely to use a hand gun, and twice more likely to use a knife. A number of police officers believe that “special attention” to African American citizens improves crime detection rates. However, it has a significant impact on the rise in police dissatisfaction. Although the number of attacks on police and their killings has declined in recent years, experts explain it by the fact that US police are increasingly avoiding “black” neighborhoods, where they can be particularly vulnerable. \n",
      "Moreover, a large part of the US population is puzzled with the public position of President Obama who invariably condemns the actions of the police and grieves for the black victims of police violence, but is silent about the cases of murder of police officers in the course of discharging their official responsibilities. Such a situation leads to an increase in real crime, which is not reflected in official statistics. We should not forget that the number of firearms in the United States recently surpassed the number of inhabitants and according to various estimates there are more than 320 million guns in the US, of which more than 270 million are in the hands of the civilian population. Therefore, a further escalation of violence in the American society, at any time, can lead to very dire consequences. In general, ethnic tensions peaked since the beginning of the Barack Obama presidency. Thus, according to the official FBI statistics, in 2015 the number of white-on-black murders and vice versa reached their highest levels in 2008. The number of white-on-black murders has increased by 12%, while the number of black-on-white murders increased 22%. \n",
      "According to the report of the Chair-Rapporteur of the United Nations Working Group of Experts on People of African Descent Ricardo III Sunga (Philippines), the US maintains “structural racism”. It is a correct assessment of the situation. Despite the fact that the police officers are under the special protection of the state, laws aimed at fighting race discrimination, have the opposite effect of reverse discrimination, harming ordinary Americans. The use of unofficial, but very real quotas for the appointment of people of color at schools and businesses sometimes does not allow qualified “white” experts to get jobs or promotion. In case of conflicts of a civil nature between people with different skin color, they are usually subjected to racial profiling. At the same time, public opinion and the Supreme Court often find themselves on the side of national minorities. \n",
      "On the other hand, the US still has a low level of political representation of ethnic minorities. As of November 2015, there have been a total of 1,963 members of the United States Senate, but only nine have been black, including Barack Obama. Out of 10,884 US Representatives, only 131 have been black. At present, there are no black governors at all. This lack of political representation also leads to more social tension. \n",
      "No improvement has been observed during the final year of the first US African American presidency, instead, considerable aggravation of interracial conflict has been noted, to the point of it becoming one of the most dangerous threats to homeland security. Obama failed to cope with social problems, although he managed to stabilize the economy following the crisis. Still, 27% of African Americans continue to live below the poverty line, an average of 12% do not have steady employment. In some cities this figure reaches 40% and even as high as 50%. The level of culture, education and labor skills is also low. All this leads to an increase in crime among African Americans, and thus foments racist sentiment in society at large. This also leads to an exacerbation of black on black crime. For example, in Chicago, over the past 3 years, 75% of murder victims are young black males and 72% of murder perpetrators are also young black males. Social conditions in such places are affected by the fact that a large percentage of children grow up in broken homes. \n",
      "As far as inter-party competition is concerned, it is obvious that in spite of the election of a black president, the Democrats failed to improve the lives of African Americans. Their criticism of the GOP’s harsh race rhetoric in order to attract voters, this is also an attempt to hide the fact they are not interested in changing the status quo. Paradoxically, only Republicans with their strict “law and order” approach are truly interested in the implementation of certain changes. Although the consequences of their policies in the event of capturing the White House, remain to be seen. \n",
      "Summing up President Obama’s activities in the sphere of interracial relations, we can say that he has not developed a new national idea in order to deal with the problem of racism. US history will remember the first black president not as an idealist fighting for the rights of the oppressed, but as a servant of the ruling white elite and its interests. Related Posts: No Related Posts The views expressed herein are the views of the author exclusively and not necessarily the views of VT, VT authors, affiliates, advertisers, sponsors, partners, technicians, or the Veterans Today Network and its assigns. LEGAL NOTICE - COMMENT POLICY Posted by South Front on October 27, 2016, With 221 Reads Filed under World . You can follow any responses to this entry through the RSS 2.0 . You can skip to the end and leave a response. Pinging is currently not allowed. FaceBook Comments\n"
     ]
    }
   ],
   "source": [
    "print(train_df.iloc[random_article_index,3])"
   ]
  },
  {
   "cell_type": "code",
   "execution_count": 57,
   "id": "d1d46c58-fcc3-4d17-850e-5d1c79a9b593",
   "metadata": {},
   "outputs": [],
   "source": [
    "# get the topic contributions for the document chosen at random above\n",
    "doc_distribution = np.array([tup[1] for tup in lda.get_document_topics(bow=bow)])"
   ]
  },
  {
   "cell_type": "code",
   "execution_count": 58,
   "id": "6a800644-e6cc-4147-91d5-c88d49dcf10b",
   "metadata": {},
   "outputs": [
    {
     "data": {
      "image/png": "[encoded data removed]",
      "text/plain": [
       "<Figure size 1200x600 with 1 Axes>"
      ]
     },
     "metadata": {},
     "output_type": "display_data"
    }
   ],
   "source": [
    "# bar plot of topic distribution for this document\n",
    "fig, ax = plt.subplots(figsize=(12,6));\n",
    "# the histogram of the data\n",
    "patches = ax.bar(np.arange(len(doc_distribution)), doc_distribution)\n",
    "ax.set_xlabel('Topic ID', fontsize=15)\n",
    "ax.set_ylabel('Topic Contribution', fontsize=15)\n",
    "ax.set_title(\"Topic Distribution for Article \" + str(random_article_index), fontsize=20)\n",
    "ax.set_xticks(np.linspace(10,100,10))\n",
    "fig.tight_layout()\n",
    "plt.show()"
   ]
  },
  {
   "cell_type": "code",
   "execution_count": 59,
   "id": "a1b08afe-edb7-4313-8e79-65ace8bba0c2",
   "metadata": {},
   "outputs": [
    {
     "name": "stdout",
     "output_type": "stream",
     "text": [
      "47 [('econom', 0.01787773), ('system', 0.014771509), ('govern', 0.011161161), ('global', 0.010072405), ('polit', 0.0084472215), ('world', 0.008383163), ('polici', 0.008382486), ('economi', 0.007820464), ('nation', 0.007005057), ('power', 0.006877433)] \n",
      "\n",
      "60 [('polic', 0.07764925), ('offic', 0.05566726), ('arrest', 0.024043722), ('said', 0.023791103), ('cop', 0.020690946), ('violenc', 0.02011289), ('report', 0.015418637), ('charg', 0.014522885), ('accord', 0.011870582), ('shoot', 0.01077371)] \n",
      "\n",
      "51 [('black', 0.16425651), ('white', 0.115203924), ('racist', 0.0238516), ('peopl', 0.022883229), ('live', 0.021559477), ('racism', 0.019194325), ('race', 0.018473024), ('color', 0.017114956), ('matter', 0.01473385), ('racial', 0.013806462)] \n",
      "\n",
      "44 [('state', 0.02698032), ('unit', 0.01937746), ('secur', 0.018126767), ('countri', 0.0142513), ('intern', 0.013363834), ('also', 0.011850399), ('nation', 0.011019332), ('member', 0.009468684), ('us', 0.008820436), ('relat', 0.008547374)] \n",
      "\n",
      "53 [('year', 0.06877156), ('million', 0.048465207), ('job', 0.025923248), ('number', 0.025225377), ('work', 0.023152329), ('per', 0.022358386), ('increas', 0.021600727), ('last', 0.020054918), ('peopl', 0.018171428), ('popul', 0.014832329)] \n",
      "\n"
     ]
    }
   ],
   "source": [
    "# print the top 5 contributing topics and their words\n",
    "for i in doc_distribution.argsort()[-5:][::-1]:\n",
    "    print(i, lda.show_topic(topicid=i, topn=10), \"\\n\")"
   ]
  },
  {
   "cell_type": "code",
   "execution_count": null,
   "id": "44c3735f-940f-488d-9004-42b33f206e4e",
   "metadata": {},
   "outputs": [],
   "source": []
  }
 ],
 "metadata": {
  "kernelspec": {
   "display_name": "Python 3 (ipykernel)",
   "language": "python",
   "name": "python3"
  },
  "language_info": {
   "codemirror_mode": {
    "name": "ipython",
    "version": 3
   },
   "file_extension": ".py",
   "mimetype": "text/x-python",
   "name": "python",
   "nbconvert_exporter": "python",
   "pygments_lexer": "ipython3",
   "version": "3.11.8"
  }
 },
 "nbformat": 4,
 "nbformat_minor": 5
}
